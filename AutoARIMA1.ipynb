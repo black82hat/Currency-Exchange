{
  "nbformat": 4,
  "nbformat_minor": 0,
  "metadata": {
    "colab": {
      "provenance": []
    },
    "kernelspec": {
      "name": "python3",
      "display_name": "Python 3"
    },
    "language_info": {
      "name": "python"
    }
  },
  "cells": [
    {
      "cell_type": "code",
      "execution_count": 1,
      "metadata": {
        "colab": {
          "base_uri": "https://localhost:8080/"
        },
        "id": "cFvQ8mydmysX",
        "outputId": "bdd18371-a1b1-49f5-e65e-c83eb7a978e2"
      },
      "outputs": [
        {
          "output_type": "stream",
          "name": "stdout",
          "text": [
            "Looking in indexes: https://pypi.org/simple, https://us-python.pkg.dev/colab-wheels/public/simple/\n",
            "Collecting pmdarima\n",
            "  Downloading pmdarima-2.0.3-cp310-cp310-manylinux_2_17_x86_64.manylinux2014_x86_64.manylinux_2_28_x86_64.whl (1.8 MB)\n",
            "\u001b[2K     \u001b[90m━━━━━━━━━━━━━━━━━━━━━━━━━━━━━━━━━━━━━━━━\u001b[0m \u001b[32m1.8/1.8 MB\u001b[0m \u001b[31m21.7 MB/s\u001b[0m eta \u001b[36m0:00:00\u001b[0m\n",
            "\u001b[?25hRequirement already satisfied: joblib>=0.11 in /usr/local/lib/python3.10/dist-packages (from pmdarima) (1.2.0)\n",
            "Requirement already satisfied: Cython!=0.29.18,!=0.29.31,>=0.29 in /usr/local/lib/python3.10/dist-packages (from pmdarima) (0.29.34)\n",
            "Requirement already satisfied: numpy>=1.21.2 in /usr/local/lib/python3.10/dist-packages (from pmdarima) (1.22.4)\n",
            "Requirement already satisfied: pandas>=0.19 in /usr/local/lib/python3.10/dist-packages (from pmdarima) (1.5.3)\n",
            "Requirement already satisfied: scikit-learn>=0.22 in /usr/local/lib/python3.10/dist-packages (from pmdarima) (1.2.2)\n",
            "Requirement already satisfied: scipy>=1.3.2 in /usr/local/lib/python3.10/dist-packages (from pmdarima) (1.10.1)\n",
            "Requirement already satisfied: statsmodels>=0.13.2 in /usr/local/lib/python3.10/dist-packages (from pmdarima) (0.13.5)\n",
            "Requirement already satisfied: urllib3 in /usr/local/lib/python3.10/dist-packages (from pmdarima) (1.26.15)\n",
            "Requirement already satisfied: setuptools!=50.0.0,>=38.6.0 in /usr/local/lib/python3.10/dist-packages (from pmdarima) (67.7.2)\n",
            "Requirement already satisfied: python-dateutil>=2.8.1 in /usr/local/lib/python3.10/dist-packages (from pandas>=0.19->pmdarima) (2.8.2)\n",
            "Requirement already satisfied: pytz>=2020.1 in /usr/local/lib/python3.10/dist-packages (from pandas>=0.19->pmdarima) (2022.7.1)\n",
            "Requirement already satisfied: threadpoolctl>=2.0.0 in /usr/local/lib/python3.10/dist-packages (from scikit-learn>=0.22->pmdarima) (3.1.0)\n",
            "Requirement already satisfied: patsy>=0.5.2 in /usr/local/lib/python3.10/dist-packages (from statsmodels>=0.13.2->pmdarima) (0.5.3)\n",
            "Requirement already satisfied: packaging>=21.3 in /usr/local/lib/python3.10/dist-packages (from statsmodels>=0.13.2->pmdarima) (23.1)\n",
            "Requirement already satisfied: six in /usr/local/lib/python3.10/dist-packages (from patsy>=0.5.2->statsmodels>=0.13.2->pmdarima) (1.16.0)\n",
            "Installing collected packages: pmdarima\n",
            "Successfully installed pmdarima-2.0.3\n"
          ]
        }
      ],
      "source": [
        "pip install pmdarima   # this package contain function calle Auto ARIMA that automatically find best model us\n",
        "# It try bunch of different setting and return the best setting according to some criteria"
      ]
    },
    {
      "cell_type": "code",
      "source": [
        "# Auto ARIMA from pmdarima have different API thab statsmodels\n",
        "# Seasonal ARIMA(SARIMA) : Seasonality does not envolve in stock prices but do not comprise all of what can be considered finantial data\n",
        "#Weather or seasons affect some products and real estate.\n",
        "#SARIMA {(p,q,d)x(P,D,Q)m}  has 3 new hyperparameter\n",
        "# time series that exhibit seasonality then it is non stationary\n",
        "#SARIMAX X refer as exogenous variable suppose we have time series of length T and @ each point of time series we have some feature vectors of exogenous data\n",
        "#may be sebtiment tweet by elon musk or from various finantial news sites we can include this in our model by passing in an array of feature vectors of size T\n",
        "# T x D   into auto ARIMA function One Caveat is that when you want to make prediction you have to know what there features are so thing on that way weather this is actully practical for us or not\n",
        "\n",
        "\n"
      ],
      "metadata": {
        "id": "b85MaSws5wGm"
      },
      "execution_count": 2,
      "outputs": []
    },
    {
      "cell_type": "code",
      "source": [
        "# Model Selection Statistical way\n",
        "# ACF & PACF is more direct way to choose a hyper parameter rather then trial and error\n",
        "\"\"\"\"Auto ARIMA does more exhaustive search and find best ans then ACF and PACF , other method is grid search : search through all possibility of hyperparameter in a grid\n",
        "but it is computationally expensive.\n",
        "\n",
        "Model selection criteria AIC(Akaike Information Criteria) and BIC (Bayesian Information critera) both have same intution (In ML model Trade off happen b/w model complexity and accuracy) for arima complexity is p+q\n",
        "In stats to penalize model complexity, as loss fun for ARIMA IS NEGATIVE LOG LIKELIHOOD and minimizing this equivalent to minimizing squared error.\n",
        "Evaluation Metric = Negative Log Lokelihood + Penalty,   Penalty is helps to save from overfitting and this is compuated differently for AIC and BIC   AIC =2(#params) - 2log(L), BIC =(#params)log(T) - 2log(L)  here log(T) is no of data points\n",
        "L : Likelihood,  Auto ARIMA use AIC by defalult, and both of these leads to same ans.\n",
        "\"\"\"\"\n",
        "# Model Selection ML way\n",
        "\"\"\"\"  In ML we won't care much about no of parameters in a model becoz we are comparing different kinds of model like decision tree, NN.and for modern method like deep learning it often doesn't matters.\n",
        "In ML we don't want our model to be accurate only on the data we train on but it accurate on data that it hasn't seen yet.\n",
        "If we're using out of sample data to choose hyperparameter, it called 'validation set' (eg: Cross validation)\n",
        "\n",
        "\"\"\"\n",
        "\n"
      ],
      "metadata": {
        "id": "-Jow81fmSe1X"
      },
      "execution_count": null,
      "outputs": []
    }
  ]
}